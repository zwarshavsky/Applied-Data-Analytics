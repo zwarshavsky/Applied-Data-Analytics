{
 "cells": [
  {
   "cell_type": "code",
   "execution_count": 28,
   "metadata": {},
   "outputs": [],
   "source": [
    "import pandas as pd\n",
    "import matplotlib.pyplot as plt"
   ]
  },
  {
   "cell_type": "code",
   "execution_count": 29,
   "metadata": {},
   "outputs": [],
   "source": [
    "df = pd.read_csv(\"/Users/user/Documents/GitHub/Applied-Data-Analytics/Datasets/dealerships.csv\")\n"
   ]
  },
  {
   "cell_type": "code",
   "execution_count": 30,
   "metadata": {},
   "outputs": [
    {
     "data": {
      "text/html": [
       "<div>\n",
       "<style scoped>\n",
       "    .dataframe tbody tr th:only-of-type {\n",
       "        vertical-align: middle;\n",
       "    }\n",
       "\n",
       "    .dataframe tbody tr th {\n",
       "        vertical-align: top;\n",
       "    }\n",
       "\n",
       "    .dataframe thead th {\n",
       "        text-align: right;\n",
       "    }\n",
       "</style>\n",
       "<table border=\"1\" class=\"dataframe\">\n",
       "  <thead>\n",
       "    <tr style=\"text-align: right;\">\n",
       "      <th></th>\n",
       "      <th>Location</th>\n",
       "      <th>Net Annual Sales</th>\n",
       "      <th>Number of Female Employees</th>\n",
       "    </tr>\n",
       "  </thead>\n",
       "  <tbody>\n",
       "    <tr>\n",
       "      <th>0</th>\n",
       "      <td>Millburn, NJ</td>\n",
       "      <td>150803012.00000</td>\n",
       "      <td>27</td>\n",
       "    </tr>\n",
       "    <tr>\n",
       "      <th>1</th>\n",
       "      <td>Los Angeles, CA</td>\n",
       "      <td>110872084.00000</td>\n",
       "      <td>17</td>\n",
       "    </tr>\n",
       "    <tr>\n",
       "      <th>2</th>\n",
       "      <td>Houston, TX</td>\n",
       "      <td>183945873.00000</td>\n",
       "      <td>22</td>\n",
       "    </tr>\n",
       "    <tr>\n",
       "      <th>3</th>\n",
       "      <td>Miami, FL</td>\n",
       "      <td>156355396.00000</td>\n",
       "      <td>18</td>\n",
       "    </tr>\n",
       "    <tr>\n",
       "      <th>4</th>\n",
       "      <td>San Mateo, CA</td>\n",
       "      <td>143108603.00000</td>\n",
       "      <td>17</td>\n",
       "    </tr>\n",
       "    <tr>\n",
       "      <th>5</th>\n",
       "      <td>Seattle, WA</td>\n",
       "      <td>142755480.00000</td>\n",
       "      <td>33</td>\n",
       "    </tr>\n",
       "    <tr>\n",
       "      <th>6</th>\n",
       "      <td>Arlington VA</td>\n",
       "      <td>144772604.00000</td>\n",
       "      <td>28</td>\n",
       "    </tr>\n",
       "    <tr>\n",
       "      <th>7</th>\n",
       "      <td>Portland, OR</td>\n",
       "      <td>179608438.00000</td>\n",
       "      <td>32</td>\n",
       "    </tr>\n",
       "    <tr>\n",
       "      <th>8</th>\n",
       "      <td>Reno, NV</td>\n",
       "      <td>145101244.00000</td>\n",
       "      <td>19</td>\n",
       "    </tr>\n",
       "    <tr>\n",
       "      <th>9</th>\n",
       "      <td>Chicago, IL</td>\n",
       "      <td>171491596.00000</td>\n",
       "      <td>24</td>\n",
       "    </tr>\n",
       "    <tr>\n",
       "      <th>10</th>\n",
       "      <td>Atlanta, GA</td>\n",
       "      <td>198386988.00000</td>\n",
       "      <td>27</td>\n",
       "    </tr>\n",
       "    <tr>\n",
       "      <th>11</th>\n",
       "      <td>Orlando, FL</td>\n",
       "      <td>180188054.00000</td>\n",
       "      <td>24</td>\n",
       "    </tr>\n",
       "    <tr>\n",
       "      <th>12</th>\n",
       "      <td>Jacksonville, FL</td>\n",
       "      <td>158479693.00000</td>\n",
       "      <td>32</td>\n",
       "    </tr>\n",
       "    <tr>\n",
       "      <th>13</th>\n",
       "      <td>Round Rock, TX</td>\n",
       "      <td>181820474.00000</td>\n",
       "      <td>27</td>\n",
       "    </tr>\n",
       "    <tr>\n",
       "      <th>14</th>\n",
       "      <td>Phoenix, AZ</td>\n",
       "      <td>95512810.70000</td>\n",
       "      <td>18</td>\n",
       "    </tr>\n",
       "    <tr>\n",
       "      <th>15</th>\n",
       "      <td>Charlotte, NC</td>\n",
       "      <td>199653776.00000</td>\n",
       "      <td>32</td>\n",
       "    </tr>\n",
       "    <tr>\n",
       "      <th>16</th>\n",
       "      <td>Philadelphia, PA</td>\n",
       "      <td>193111679.00000</td>\n",
       "      <td>31</td>\n",
       "    </tr>\n",
       "    <tr>\n",
       "      <th>17</th>\n",
       "      <td>Kansas City, MO</td>\n",
       "      <td>176816637.00000</td>\n",
       "      <td>35</td>\n",
       "    </tr>\n",
       "    <tr>\n",
       "      <th>18</th>\n",
       "      <td>Dallas, TX</td>\n",
       "      <td>168769837.00000</td>\n",
       "      <td>33</td>\n",
       "    </tr>\n",
       "    <tr>\n",
       "      <th>19</th>\n",
       "      <td>Boston, MA</td>\n",
       "      <td>350520724.00000</td>\n",
       "      <td>20</td>\n",
       "    </tr>\n",
       "  </tbody>\n",
       "</table>\n",
       "</div>"
      ],
      "text/plain": [
       "            Location  Net Annual Sales  Number of Female Employees\n",
       "0       Millburn, NJ   150803012.00000                          27\n",
       "1    Los Angeles, CA   110872084.00000                          17\n",
       "2        Houston, TX   183945873.00000                          22\n",
       "3          Miami, FL   156355396.00000                          18\n",
       "4      San Mateo, CA   143108603.00000                          17\n",
       "5        Seattle, WA   142755480.00000                          33\n",
       "6       Arlington VA   144772604.00000                          28\n",
       "7       Portland, OR   179608438.00000                          32\n",
       "8           Reno, NV   145101244.00000                          19\n",
       "9        Chicago, IL   171491596.00000                          24\n",
       "10       Atlanta, GA   198386988.00000                          27\n",
       "11       Orlando, FL   180188054.00000                          24\n",
       "12  Jacksonville, FL   158479693.00000                          32\n",
       "13    Round Rock, TX   181820474.00000                          27\n",
       "14       Phoenix, AZ    95512810.70000                          18\n",
       "15     Charlotte, NC   199653776.00000                          32\n",
       "16  Philadelphia, PA   193111679.00000                          31\n",
       "17   Kansas City, MO   176816637.00000                          35\n",
       "18        Dallas, TX   168769837.00000                          33\n",
       "19        Boston, MA   350520724.00000                          20"
      ]
     },
     "execution_count": 30,
     "metadata": {},
     "output_type": "execute_result"
    }
   ],
   "source": [
    "df"
   ]
  },
  {
   "cell_type": "code",
   "execution_count": 31,
   "metadata": {},
   "outputs": [],
   "source": [
    "pd.set_option('display.float_format', lambda x: '%.5f' % x)"
   ]
  },
  {
   "cell_type": "code",
   "execution_count": 32,
   "metadata": {},
   "outputs": [
    {
     "data": {
      "text/html": [
       "<div>\n",
       "<style scoped>\n",
       "    .dataframe tbody tr th:only-of-type {\n",
       "        vertical-align: middle;\n",
       "    }\n",
       "\n",
       "    .dataframe tbody tr th {\n",
       "        vertical-align: top;\n",
       "    }\n",
       "\n",
       "    .dataframe thead th {\n",
       "        text-align: right;\n",
       "    }\n",
       "</style>\n",
       "<table border=\"1\" class=\"dataframe\">\n",
       "  <thead>\n",
       "    <tr style=\"text-align: right;\">\n",
       "      <th></th>\n",
       "      <th>Net Annual Sales</th>\n",
       "      <th>Number of Female Employees</th>\n",
       "    </tr>\n",
       "  </thead>\n",
       "  <tbody>\n",
       "    <tr>\n",
       "      <th>count</th>\n",
       "      <td>20.00000</td>\n",
       "      <td>20.00000</td>\n",
       "    </tr>\n",
       "    <tr>\n",
       "      <th>mean</th>\n",
       "      <td>171603750.13500</td>\n",
       "      <td>25.80000</td>\n",
       "    </tr>\n",
       "    <tr>\n",
       "      <th>std</th>\n",
       "      <td>50152290.42091</td>\n",
       "      <td>6.14389</td>\n",
       "    </tr>\n",
       "    <tr>\n",
       "      <th>min</th>\n",
       "      <td>95512810.70000</td>\n",
       "      <td>17.00000</td>\n",
       "    </tr>\n",
       "    <tr>\n",
       "      <th>25%</th>\n",
       "      <td>145019084.00000</td>\n",
       "      <td>19.75000</td>\n",
       "    </tr>\n",
       "    <tr>\n",
       "      <th>50%</th>\n",
       "      <td>170130716.50000</td>\n",
       "      <td>27.00000</td>\n",
       "    </tr>\n",
       "    <tr>\n",
       "      <th>75%</th>\n",
       "      <td>182351823.75000</td>\n",
       "      <td>32.00000</td>\n",
       "    </tr>\n",
       "    <tr>\n",
       "      <th>max</th>\n",
       "      <td>350520724.00000</td>\n",
       "      <td>35.00000</td>\n",
       "    </tr>\n",
       "  </tbody>\n",
       "</table>\n",
       "</div>"
      ],
      "text/plain": [
       "       Net Annual Sales  Number of Female Employees\n",
       "count          20.00000                    20.00000\n",
       "mean    171603750.13500                    25.80000\n",
       "std      50152290.42091                     6.14389\n",
       "min      95512810.70000                    17.00000\n",
       "25%     145019084.00000                    19.75000\n",
       "50%     170130716.50000                    27.00000\n",
       "75%     182351823.75000                    32.00000\n",
       "max     350520724.00000                    35.00000"
      ]
     },
     "execution_count": 32,
     "metadata": {},
     "output_type": "execute_result"
    }
   ],
   "source": [
    "df.describe()"
   ]
  },
  {
   "cell_type": "code",
   "execution_count": 33,
   "metadata": {},
   "outputs": [
    {
     "data": {
      "text/plain": [
       "array([[<matplotlib.axes._subplots.AxesSubplot object at 0x11f832c50>]],\n",
       "      dtype=object)"
      ]
     },
     "execution_count": 33,
     "metadata": {},
     "output_type": "execute_result"
    },
    {
     "data": {
      "image/png": "[encoded data removed]",
      "text/plain": [
       "<Figure size 432x288 with 1 Axes>"
      ]
     },
     "metadata": {
      "needs_background": "light"
     },
     "output_type": "display_data"
    }
   ],
   "source": [
    "df.drop(\"Number of Female Employees\",axis=1).hist()"
   ]
  },
  {
   "cell_type": "code",
   "execution_count": 34,
   "metadata": {},
   "outputs": [
    {
     "data": {
      "text/plain": [
       "array([[<matplotlib.axes._subplots.AxesSubplot object at 0x11fa38a50>]],\n",
       "      dtype=object)"
      ]
     },
     "execution_count": 34,
     "metadata": {},
     "output_type": "execute_result"
    },
    {
     "data": {
      "image/png": "[encoded data removed]",
      "text/plain": [
       "<Figure size 432x288 with 1 Axes>"
      ]
     },
     "metadata": {
      "needs_background": "light"
     },
     "output_type": "display_data"
    }
   ],
   "source": [
    "df.drop(\"Net Annual Sales\",axis=1).hist()"
   ]
  },
  {
   "cell_type": "code",
   "execution_count": 35,
   "metadata": {},
   "outputs": [
    {
     "data": {
      "text/plain": [
       "<matplotlib.axes._subplots.AxesSubplot at 0x11fad0910>"
      ]
     },
     "execution_count": 35,
     "metadata": {},
     "output_type": "execute_result"
    },
    {
     "data": {
      "image/png": "[encoded data removed]",
      "text/plain": [
       "<Figure size 432x288 with 1 Axes>"
      ]
     },
     "metadata": {
      "needs_background": "light"
     },
     "output_type": "display_data"
    }
   ],
   "source": [
    "df.plot.scatter(x=\"Number of Female Employees\",y=\"Net Annual Sales\")"
   ]
  },
  {
   "cell_type": "code",
   "execution_count": 36,
   "metadata": {},
   "outputs": [
    {
     "data": {
      "image/png": "[encoded data removed]",
      "text/plain": [
       "<Figure size 720x288 with 1 Axes>"
      ]
     },
     "metadata": {
      "needs_background": "light"
     },
     "output_type": "display_data"
    }
   ],
   "source": [
    "fig, ax = plt.subplots(figsize=(10,4))\n",
    "ax.scatter(df[\"Number of Female Employees\"], df[\"Net Annual Sales\"])\n",
    "ax.set_xlabel(\"Number of Female Employees\")\n",
    "ax.set_ylabel(\"Net Annual Sales\")\n",
    "plt.show()"
   ]
  },
  {
   "cell_type": "code",
   "execution_count": 37,
   "metadata": {},
   "outputs": [
    {
     "data": {
      "text/html": [
       "<div>\n",
       "<style scoped>\n",
       "    .dataframe tbody tr th:only-of-type {\n",
       "        vertical-align: middle;\n",
       "    }\n",
       "\n",
       "    .dataframe tbody tr th {\n",
       "        vertical-align: top;\n",
       "    }\n",
       "\n",
       "    .dataframe thead th {\n",
       "        text-align: right;\n",
       "    }\n",
       "</style>\n",
       "<table border=\"1\" class=\"dataframe\">\n",
       "  <thead>\n",
       "    <tr style=\"text-align: right;\">\n",
       "      <th></th>\n",
       "      <th>Location</th>\n",
       "      <th>Net Annual Sales</th>\n",
       "      <th>Number of Female Employees</th>\n",
       "    </tr>\n",
       "  </thead>\n",
       "  <tbody>\n",
       "    <tr>\n",
       "      <th>19</th>\n",
       "      <td>Boston, MA</td>\n",
       "      <td>350520724.00000</td>\n",
       "      <td>20</td>\n",
       "    </tr>\n",
       "  </tbody>\n",
       "</table>\n",
       "</div>"
      ],
      "text/plain": [
       "      Location  Net Annual Sales  Number of Female Employees\n",
       "19  Boston, MA   350520724.00000                          20"
      ]
     },
     "execution_count": 37,
     "metadata": {},
     "output_type": "execute_result"
    }
   ],
   "source": [
    "#The Outlier\n",
    "\n",
    "df[df[\"Number of Female Employees\"] == 20]"
   ]
  },
  {
   "cell_type": "code",
   "execution_count": 38,
   "metadata": {},
   "outputs": [],
   "source": [
    "df[\"quantiles\"] = pd.qcut(df[\"Net Annual Sales\"],q=4)"
   ]
  },
  {
   "cell_type": "code",
   "execution_count": 39,
   "metadata": {},
   "outputs": [
    {
     "data": {
      "text/html": [
       "<div>\n",
       "<style scoped>\n",
       "    .dataframe tbody tr th:only-of-type {\n",
       "        vertical-align: middle;\n",
       "    }\n",
       "\n",
       "    .dataframe tbody tr th {\n",
       "        vertical-align: top;\n",
       "    }\n",
       "\n",
       "    .dataframe thead th {\n",
       "        text-align: right;\n",
       "    }\n",
       "</style>\n",
       "<table border=\"1\" class=\"dataframe\">\n",
       "  <thead>\n",
       "    <tr style=\"text-align: right;\">\n",
       "      <th></th>\n",
       "      <th>Location</th>\n",
       "      <th>Net Annual Sales</th>\n",
       "      <th>Number of Female Employees</th>\n",
       "      <th>quantiles</th>\n",
       "    </tr>\n",
       "  </thead>\n",
       "  <tbody>\n",
       "    <tr>\n",
       "      <th>0</th>\n",
       "      <td>Millburn, NJ</td>\n",
       "      <td>150803012.00000</td>\n",
       "      <td>27</td>\n",
       "      <td>(145019084.0, 170130716.5]</td>\n",
       "    </tr>\n",
       "    <tr>\n",
       "      <th>1</th>\n",
       "      <td>Los Angeles, CA</td>\n",
       "      <td>110872084.00000</td>\n",
       "      <td>17</td>\n",
       "      <td>(95512810.699, 145019084.0]</td>\n",
       "    </tr>\n",
       "    <tr>\n",
       "      <th>2</th>\n",
       "      <td>Houston, TX</td>\n",
       "      <td>183945873.00000</td>\n",
       "      <td>22</td>\n",
       "      <td>(182351823.75, 350520724.0]</td>\n",
       "    </tr>\n",
       "    <tr>\n",
       "      <th>3</th>\n",
       "      <td>Miami, FL</td>\n",
       "      <td>156355396.00000</td>\n",
       "      <td>18</td>\n",
       "      <td>(145019084.0, 170130716.5]</td>\n",
       "    </tr>\n",
       "    <tr>\n",
       "      <th>4</th>\n",
       "      <td>San Mateo, CA</td>\n",
       "      <td>143108603.00000</td>\n",
       "      <td>17</td>\n",
       "      <td>(95512810.699, 145019084.0]</td>\n",
       "    </tr>\n",
       "    <tr>\n",
       "      <th>5</th>\n",
       "      <td>Seattle, WA</td>\n",
       "      <td>142755480.00000</td>\n",
       "      <td>33</td>\n",
       "      <td>(95512810.699, 145019084.0]</td>\n",
       "    </tr>\n",
       "    <tr>\n",
       "      <th>6</th>\n",
       "      <td>Arlington VA</td>\n",
       "      <td>144772604.00000</td>\n",
       "      <td>28</td>\n",
       "      <td>(95512810.699, 145019084.0]</td>\n",
       "    </tr>\n",
       "    <tr>\n",
       "      <th>7</th>\n",
       "      <td>Portland, OR</td>\n",
       "      <td>179608438.00000</td>\n",
       "      <td>32</td>\n",
       "      <td>(170130716.5, 182351823.75]</td>\n",
       "    </tr>\n",
       "    <tr>\n",
       "      <th>8</th>\n",
       "      <td>Reno, NV</td>\n",
       "      <td>145101244.00000</td>\n",
       "      <td>19</td>\n",
       "      <td>(145019084.0, 170130716.5]</td>\n",
       "    </tr>\n",
       "    <tr>\n",
       "      <th>9</th>\n",
       "      <td>Chicago, IL</td>\n",
       "      <td>171491596.00000</td>\n",
       "      <td>24</td>\n",
       "      <td>(170130716.5, 182351823.75]</td>\n",
       "    </tr>\n",
       "    <tr>\n",
       "      <th>10</th>\n",
       "      <td>Atlanta, GA</td>\n",
       "      <td>198386988.00000</td>\n",
       "      <td>27</td>\n",
       "      <td>(182351823.75, 350520724.0]</td>\n",
       "    </tr>\n",
       "    <tr>\n",
       "      <th>11</th>\n",
       "      <td>Orlando, FL</td>\n",
       "      <td>180188054.00000</td>\n",
       "      <td>24</td>\n",
       "      <td>(170130716.5, 182351823.75]</td>\n",
       "    </tr>\n",
       "    <tr>\n",
       "      <th>12</th>\n",
       "      <td>Jacksonville, FL</td>\n",
       "      <td>158479693.00000</td>\n",
       "      <td>32</td>\n",
       "      <td>(145019084.0, 170130716.5]</td>\n",
       "    </tr>\n",
       "    <tr>\n",
       "      <th>13</th>\n",
       "      <td>Round Rock, TX</td>\n",
       "      <td>181820474.00000</td>\n",
       "      <td>27</td>\n",
       "      <td>(170130716.5, 182351823.75]</td>\n",
       "    </tr>\n",
       "    <tr>\n",
       "      <th>14</th>\n",
       "      <td>Phoenix, AZ</td>\n",
       "      <td>95512810.70000</td>\n",
       "      <td>18</td>\n",
       "      <td>(95512810.699, 145019084.0]</td>\n",
       "    </tr>\n",
       "    <tr>\n",
       "      <th>15</th>\n",
       "      <td>Charlotte, NC</td>\n",
       "      <td>199653776.00000</td>\n",
       "      <td>32</td>\n",
       "      <td>(182351823.75, 350520724.0]</td>\n",
       "    </tr>\n",
       "    <tr>\n",
       "      <th>16</th>\n",
       "      <td>Philadelphia, PA</td>\n",
       "      <td>193111679.00000</td>\n",
       "      <td>31</td>\n",
       "      <td>(182351823.75, 350520724.0]</td>\n",
       "    </tr>\n",
       "    <tr>\n",
       "      <th>17</th>\n",
       "      <td>Kansas City, MO</td>\n",
       "      <td>176816637.00000</td>\n",
       "      <td>35</td>\n",
       "      <td>(170130716.5, 182351823.75]</td>\n",
       "    </tr>\n",
       "    <tr>\n",
       "      <th>18</th>\n",
       "      <td>Dallas, TX</td>\n",
       "      <td>168769837.00000</td>\n",
       "      <td>33</td>\n",
       "      <td>(145019084.0, 170130716.5]</td>\n",
       "    </tr>\n",
       "    <tr>\n",
       "      <th>19</th>\n",
       "      <td>Boston, MA</td>\n",
       "      <td>350520724.00000</td>\n",
       "      <td>20</td>\n",
       "      <td>(182351823.75, 350520724.0]</td>\n",
       "    </tr>\n",
       "  </tbody>\n",
       "</table>\n",
       "</div>"
      ],
      "text/plain": [
       "            Location  Net Annual Sales  Number of Female Employees  \\\n",
       "0       Millburn, NJ   150803012.00000                          27   \n",
       "1    Los Angeles, CA   110872084.00000                          17   \n",
       "2        Houston, TX   183945873.00000                          22   \n",
       "3          Miami, FL   156355396.00000                          18   \n",
       "4      San Mateo, CA   143108603.00000                          17   \n",
       "5        Seattle, WA   142755480.00000                          33   \n",
       "6       Arlington VA   144772604.00000                          28   \n",
       "7       Portland, OR   179608438.00000                          32   \n",
       "8           Reno, NV   145101244.00000                          19   \n",
       "9        Chicago, IL   171491596.00000                          24   \n",
       "10       Atlanta, GA   198386988.00000                          27   \n",
       "11       Orlando, FL   180188054.00000                          24   \n",
       "12  Jacksonville, FL   158479693.00000                          32   \n",
       "13    Round Rock, TX   181820474.00000                          27   \n",
       "14       Phoenix, AZ    95512810.70000                          18   \n",
       "15     Charlotte, NC   199653776.00000                          32   \n",
       "16  Philadelphia, PA   193111679.00000                          31   \n",
       "17   Kansas City, MO   176816637.00000                          35   \n",
       "18        Dallas, TX   168769837.00000                          33   \n",
       "19        Boston, MA   350520724.00000                          20   \n",
       "\n",
       "                      quantiles  \n",
       "0    (145019084.0, 170130716.5]  \n",
       "1   (95512810.699, 145019084.0]  \n",
       "2   (182351823.75, 350520724.0]  \n",
       "3    (145019084.0, 170130716.5]  \n",
       "4   (95512810.699, 145019084.0]  \n",
       "5   (95512810.699, 145019084.0]  \n",
       "6   (95512810.699, 145019084.0]  \n",
       "7   (170130716.5, 182351823.75]  \n",
       "8    (145019084.0, 170130716.5]  \n",
       "9   (170130716.5, 182351823.75]  \n",
       "10  (182351823.75, 350520724.0]  \n",
       "11  (170130716.5, 182351823.75]  \n",
       "12   (145019084.0, 170130716.5]  \n",
       "13  (170130716.5, 182351823.75]  \n",
       "14  (95512810.699, 145019084.0]  \n",
       "15  (182351823.75, 350520724.0]  \n",
       "16  (182351823.75, 350520724.0]  \n",
       "17  (170130716.5, 182351823.75]  \n",
       "18   (145019084.0, 170130716.5]  \n",
       "19  (182351823.75, 350520724.0]  "
      ]
     },
     "execution_count": 39,
     "metadata": {},
     "output_type": "execute_result"
    }
   ],
   "source": [
    "df"
   ]
  },
  {
   "cell_type": "code",
   "execution_count": 50,
   "metadata": {},
   "outputs": [
    {
     "data": {
      "text/plain": [
       "4"
      ]
     },
     "execution_count": 50,
     "metadata": {},
     "output_type": "execute_result"
    }
   ],
   "source": [
    "df.sort_values(by=\"Net Annual Sales\",ascending=True)[\"quantiles\"].nunique()"
   ]
  },
  {
   "cell_type": "code",
   "execution_count": 53,
   "metadata": {},
   "outputs": [
    {
     "data": {
      "text/plain": [
       "(182351823.75, 350520724.0]    5\n",
       "(170130716.5, 182351823.75]    5\n",
       "(145019084.0, 170130716.5]     5\n",
       "(95512810.699, 145019084.0]    5\n",
       "Name: quantiles, dtype: int64"
      ]
     },
     "execution_count": 53,
     "metadata": {},
     "output_type": "execute_result"
    }
   ],
   "source": [
    "df.sort_values(by=\"Net Annual Sales\",ascending=True)[\"quantiles\"].value_counts()"
   ]
  },
  {
   "cell_type": "markdown",
   "metadata": {},
   "source": [
    "#### Reveals that the correlation between these two features is low"
   ]
  },
  {
   "cell_type": "code",
   "execution_count": 54,
   "metadata": {},
   "outputs": [
    {
     "data": {
      "text/html": [
       "<div>\n",
       "<style scoped>\n",
       "    .dataframe tbody tr th:only-of-type {\n",
       "        vertical-align: middle;\n",
       "    }\n",
       "\n",
       "    .dataframe tbody tr th {\n",
       "        vertical-align: top;\n",
       "    }\n",
       "\n",
       "    .dataframe thead th {\n",
       "        text-align: right;\n",
       "    }\n",
       "</style>\n",
       "<table border=\"1\" class=\"dataframe\">\n",
       "  <thead>\n",
       "    <tr style=\"text-align: right;\">\n",
       "      <th></th>\n",
       "      <th>Net Annual Sales</th>\n",
       "      <th>Number of Female Employees</th>\n",
       "    </tr>\n",
       "  </thead>\n",
       "  <tbody>\n",
       "    <tr>\n",
       "      <th>Net Annual Sales</th>\n",
       "      <td>1.00000</td>\n",
       "      <td>0.10458</td>\n",
       "    </tr>\n",
       "    <tr>\n",
       "      <th>Number of Female Employees</th>\n",
       "      <td>0.10458</td>\n",
       "      <td>1.00000</td>\n",
       "    </tr>\n",
       "  </tbody>\n",
       "</table>\n",
       "</div>"
      ],
      "text/plain": [
       "                            Net Annual Sales  Number of Female Employees\n",
       "Net Annual Sales                     1.00000                     0.10458\n",
       "Number of Female Employees           0.10458                     1.00000"
      ]
     },
     "execution_count": 54,
     "metadata": {},
     "output_type": "execute_result"
    }
   ],
   "source": [
    "df.corr(method ='pearson')"
   ]
  },
  {
   "cell_type": "code",
   "execution_count": null,
   "metadata": {},
   "outputs": [],
   "source": []
  }
 ],
 "metadata": {
  "kernelspec": {
   "display_name": "Applied-Data-Analytics",
   "language": "python",
   "name": "applied-data-analytics"
  },
  "language_info": {
   "codemirror_mode": {
    "name": "ipython",
    "version": 3
   },
   "file_extension": ".py",
   "mimetype": "text/x-python",
   "name": "python",
   "nbconvert_exporter": "python",
   "pygments_lexer": "ipython3",
   "version": "3.7.4"
  }
 },
 "nbformat": 4,
 "nbformat_minor": 4
}
